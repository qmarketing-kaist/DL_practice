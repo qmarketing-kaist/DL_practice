{
 "cells": [
  {
   "cell_type": "markdown",
   "metadata": {},
   "source": [
    "# Softmax using iris data"
   ]
  },
  {
   "cell_type": "markdown",
   "metadata": {},
   "source": [
    "## import packages & dataset"
   ]
  },
  {
   "cell_type": "code",
   "execution_count": 156,
   "metadata": {},
   "outputs": [],
   "source": [
    "import tensorflow as tf\n",
    "from sklearn.datasets import load_iris\n",
    "from sklearn.model_selection import train_test_split\n",
    "import numpy as np\n",
    "iris_dataset = load_iris()\n",
    "tf.set_random_seed(17)\n",
    "\n",
    "x_data = iris_dataset.data\n",
    "y_data = iris_dataset.target\n",
    "\n",
    "x_data = np.float32(x_data)\n",
    "y_data = np.reshape(y_data,(150,1))\n",
    "\n",
    "x_train, x_test = train_test_split(x_data,test_size=0.1)\n",
    "y_train, y_test = train_test_split(y_data,test_size=0.1)"
   ]
  },
  {
   "cell_type": "markdown",
   "metadata": {},
   "source": [
    "## generate places"
   ]
  },
  {
   "cell_type": "code",
   "execution_count": 140,
   "metadata": {
    "scrolled": true
   },
   "outputs": [],
   "source": [
    "X=tf.placeholder(tf.float32,[None,4])\n",
    "Y=tf.placeholder(tf.int32,[None,1])\n",
    "\n",
    "nb_classes=3\n",
    "\n",
    "Y_one_hot = tf.one_hot(Y, nb_classes)\n",
    "Y_one_hot = tf.reshape(Y_one_hot, [-1,nb_classes])\n",
    "\n",
    "\n",
    "W = tf.Variable(tf.random_normal([4, nb_classes]), name='weight')\n",
    "b = tf.Variable(tf.random_normal([nb_classes]), name='bias')"
   ]
  },
  {
   "cell_type": "markdown",
   "metadata": {},
   "source": [
    "## hypothesis & cost"
   ]
  },
  {
   "cell_type": "code",
   "execution_count": 153,
   "metadata": {
    "scrolled": true
   },
   "outputs": [],
   "source": [
    "logits = tf.matmul(X,W) + b\n",
    "hypothesis = tf.nn.softmax(logits)\n",
    "\n",
    "# Cross entropy cost/loss\n",
    "cost_i = tf.nn.softmax_cross_entropy_with_logits_v2(logits=logits,labels=Y_one_hot)\n",
    "cost = tf.reduce_mean(cost_i)\n",
    "optimizer = tf.train.GradientDescentOptimizer(learning_rate=0.001).minimize(cost)"
   ]
  },
  {
   "cell_type": "markdown",
   "metadata": {},
   "source": [
    "## prediction & accuracy"
   ]
  },
  {
   "cell_type": "code",
   "execution_count": 154,
   "metadata": {},
   "outputs": [],
   "source": [
    "prediction = tf.math.argmax(hypothesis,1)\n",
    "is_correct = tf.equal(prediction,tf.arg_max(Y,1))\n",
    "accuracy = tf.reduce_mean(tf.cast(is_correct,tf.float32))"
   ]
  },
  {
   "cell_type": "markdown",
   "metadata": {},
   "source": [
    "## running the session"
   ]
  },
  {
   "cell_type": "markdown",
   "metadata": {},
   "source": [
    "* learning rate & the amount of the training set alters the accuracy a lot\n",
    "* with 3 classes, accuracy over 0.3333 is good"
   ]
  },
  {
   "cell_type": "code",
   "execution_count": 157,
   "metadata": {
    "scrolled": true
   },
   "outputs": [
    {
     "name": "stdout",
     "output_type": "stream",
     "text": [
      "0 19.629456\n",
      "200 11.3813925\n",
      "400 3.220559\n",
      "600 1.2680227\n",
      "800 1.2413851\n",
      "1000 1.2225146\n",
      "1200 1.2052445\n",
      "1400 1.1896014\n",
      "1600 1.1755927\n",
      "1800 1.1631937\n",
      "2000 1.1523492\n",
      "--------------\n",
      "prediction: [1 1 2 0 0 1 0 1 2 0 0 2 1 0 1]\n",
      "--------------\n",
      "accuracy: 0.4\n"
     ]
    }
   ],
   "source": [
    "with tf.Session() as sess:\n",
    "    sess.run(tf.global_variables_initializer())\n",
    "\n",
    "    for step in range(2001):\n",
    "            _, cost_val = sess.run([optimizer, cost], feed_dict={X: x_train, Y: y_train})\n",
    "            if step % 200 == 0:\n",
    "                print(step, cost_val)\n",
    "\n",
    "    #Prediction\n",
    "    print('--------------')\n",
    "    print(\"prediction:\",sess.run(prediction, feed_dict={X:x_test}))\n",
    "    \n",
    "    #Testing accuracy\n",
    "    print('--------------')\n",
    "    print(\"accuracy:\",accuracy.eval(session=sess,feed_dict={X:x_test,Y:y_test}))"
   ]
  }
 ],
 "metadata": {
  "kernelspec": {
   "display_name": "Python 3",
   "language": "python",
   "name": "python3"
  },
  "language_info": {
   "codemirror_mode": {
    "name": "ipython",
    "version": 3
   },
   "file_extension": ".py",
   "mimetype": "text/x-python",
   "name": "python",
   "nbconvert_exporter": "python",
   "pygments_lexer": "ipython3",
   "version": "3.7.3"
  }
 },
 "nbformat": 4,
 "nbformat_minor": 2
}
